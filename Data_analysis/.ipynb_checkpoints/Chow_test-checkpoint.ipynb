{
 "cells": [
  {
   "cell_type": "code",
   "execution_count": 5,
   "id": "65ad63cb",
   "metadata": {
    "scrolled": true
   },
   "outputs": [],
   "source": [
    "import pandas as pd\n",
    "import numpy as np\n",
    "import chow_test"
   ]
  },
  {
   "cell_type": "code",
   "execution_count": 8,
   "id": "a2202617",
   "metadata": {
    "scrolled": true
   },
   "outputs": [
    {
     "data": {
      "text/html": [
       "<div>\n",
       "<style scoped>\n",
       "    .dataframe tbody tr th:only-of-type {\n",
       "        vertical-align: middle;\n",
       "    }\n",
       "\n",
       "    .dataframe tbody tr th {\n",
       "        vertical-align: top;\n",
       "    }\n",
       "\n",
       "    .dataframe thead th {\n",
       "        text-align: right;\n",
       "    }\n",
       "</style>\n",
       "<table border=\"1\" class=\"dataframe\">\n",
       "  <thead>\n",
       "    <tr style=\"text-align: right;\">\n",
       "      <th></th>\n",
       "      <th>Time</th>\n",
       "      <th>Spread_Households</th>\n",
       "      <th>Spread_Firms</th>\n",
       "      <th>Spread_Banks</th>\n",
       "      <th>Spread_Government</th>\n",
       "      <th>Taylor_rule_spread</th>\n",
       "      <th>Great Inflation and Great Moderation</th>\n",
       "      <th>Post-Crisis and after</th>\n",
       "      <th>Tone_Household</th>\n",
       "      <th>Tone_Firms</th>\n",
       "      <th>Tone_Banks</th>\n",
       "      <th>Tone_Government</th>\n",
       "      <th>Tone_all</th>\n",
       "      <th>Periods</th>\n",
       "    </tr>\n",
       "  </thead>\n",
       "  <tbody>\n",
       "    <tr>\n",
       "      <th>3</th>\n",
       "      <td>1965-Q4</td>\n",
       "      <td>-1.1</td>\n",
       "      <td>0.0</td>\n",
       "      <td>0.3</td>\n",
       "      <td>0.2</td>\n",
       "      <td>-2.65</td>\n",
       "      <td>0</td>\n",
       "      <td>0</td>\n",
       "      <td>0.333333</td>\n",
       "      <td>0.800</td>\n",
       "      <td>1.000000</td>\n",
       "      <td>0.000000</td>\n",
       "      <td>0.533333</td>\n",
       "      <td>Great Inflation</td>\n",
       "    </tr>\n",
       "    <tr>\n",
       "      <th>4</th>\n",
       "      <td>1966-Q1</td>\n",
       "      <td>-0.9</td>\n",
       "      <td>0.0</td>\n",
       "      <td>0.2</td>\n",
       "      <td>1.6</td>\n",
       "      <td>-2.32</td>\n",
       "      <td>0</td>\n",
       "      <td>0</td>\n",
       "      <td>0.666667</td>\n",
       "      <td>1.000</td>\n",
       "      <td>1.000000</td>\n",
       "      <td>-0.666667</td>\n",
       "      <td>0.500000</td>\n",
       "      <td>Great Inflation</td>\n",
       "    </tr>\n",
       "    <tr>\n",
       "      <th>5</th>\n",
       "      <td>1966-Q2</td>\n",
       "      <td>-0.7</td>\n",
       "      <td>0.2</td>\n",
       "      <td>0.4</td>\n",
       "      <td>2.5</td>\n",
       "      <td>-1.36</td>\n",
       "      <td>0</td>\n",
       "      <td>0</td>\n",
       "      <td>-0.111111</td>\n",
       "      <td>1.000</td>\n",
       "      <td>0.629630</td>\n",
       "      <td>0.000000</td>\n",
       "      <td>0.379630</td>\n",
       "      <td>Great Inflation</td>\n",
       "    </tr>\n",
       "    <tr>\n",
       "      <th>6</th>\n",
       "      <td>1966-Q3</td>\n",
       "      <td>-0.5</td>\n",
       "      <td>0.5</td>\n",
       "      <td>-1.2</td>\n",
       "      <td>3.6</td>\n",
       "      <td>-0.19</td>\n",
       "      <td>0</td>\n",
       "      <td>0</td>\n",
       "      <td>-1.000000</td>\n",
       "      <td>1.000</td>\n",
       "      <td>0.355556</td>\n",
       "      <td>1.000000</td>\n",
       "      <td>0.338889</td>\n",
       "      <td>Great Inflation</td>\n",
       "    </tr>\n",
       "    <tr>\n",
       "      <th>7</th>\n",
       "      <td>1966-Q4</td>\n",
       "      <td>-0.2</td>\n",
       "      <td>0.6</td>\n",
       "      <td>-0.8</td>\n",
       "      <td>3.6</td>\n",
       "      <td>1.12</td>\n",
       "      <td>0</td>\n",
       "      <td>0</td>\n",
       "      <td>0.538462</td>\n",
       "      <td>0.875</td>\n",
       "      <td>0.633333</td>\n",
       "      <td>-0.200000</td>\n",
       "      <td>0.461699</td>\n",
       "      <td>Great Inflation</td>\n",
       "    </tr>\n",
       "  </tbody>\n",
       "</table>\n",
       "</div>"
      ],
      "text/plain": [
       "      Time  Spread_Households  Spread_Firms  Spread_Banks  Spread_Government  \\\n",
       "3  1965-Q4               -1.1           0.0           0.3                0.2   \n",
       "4  1966-Q1               -0.9           0.0           0.2                1.6   \n",
       "5  1966-Q2               -0.7           0.2           0.4                2.5   \n",
       "6  1966-Q3               -0.5           0.5          -1.2                3.6   \n",
       "7  1966-Q4               -0.2           0.6          -0.8                3.6   \n",
       "\n",
       "   Taylor_rule_spread  Great Inflation and Great Moderation  \\\n",
       "3               -2.65                                     0   \n",
       "4               -2.32                                     0   \n",
       "5               -1.36                                     0   \n",
       "6               -0.19                                     0   \n",
       "7                1.12                                     0   \n",
       "\n",
       "   Post-Crisis and after  Tone_Household  Tone_Firms  Tone_Banks  \\\n",
       "3                      0        0.333333       0.800    1.000000   \n",
       "4                      0        0.666667       1.000    1.000000   \n",
       "5                      0       -0.111111       1.000    0.629630   \n",
       "6                      0       -1.000000       1.000    0.355556   \n",
       "7                      0        0.538462       0.875    0.633333   \n",
       "\n",
       "   Tone_Government  Tone_all          Periods  \n",
       "3         0.000000  0.533333  Great Inflation  \n",
       "4        -0.666667  0.500000  Great Inflation  \n",
       "5         0.000000  0.379630  Great Inflation  \n",
       "6         1.000000  0.338889  Great Inflation  \n",
       "7        -0.200000  0.461699  Great Inflation  "
      ]
     },
     "execution_count": 8,
     "metadata": {},
     "output_type": "execute_result"
    }
   ],
   "source": [
    "# reads in data on historical oil prices and dollar exchange rates\n",
    "data = pd.read_csv('/Users/moritzpfeifer/Desktop/Research/FED-Communications-Project/Data_analysis/Data_Chow.csv')\n",
    "data = data.dropna()\n",
    "data.head()"
   ]
  },
  {
   "cell_type": "code",
   "execution_count": 9,
   "id": "95e5f380",
   "metadata": {},
   "outputs": [],
   "source": [
    "data['Time'] = pd.to_datetime(data['Time'])\n",
    "data['Time'] = pd.DatetimeIndex(data['Time']).year"
   ]
  },
  {
   "cell_type": "code",
   "execution_count": 10,
   "id": "99e17554",
   "metadata": {},
   "outputs": [
    {
     "data": {
      "text/plain": [
       "3     -1.1\n",
       "4     -0.9\n",
       "5     -0.7\n",
       "6     -0.5\n",
       "7     -0.2\n",
       "      ... \n",
       "219    0.5\n",
       "220    0.4\n",
       "221   -1.1\n",
       "222    0.5\n",
       "223    0.5\n",
       "Name: Spread_Households, Length: 213, dtype: float64"
      ]
     },
     "execution_count": 10,
     "metadata": {},
     "output_type": "execute_result"
    }
   ],
   "source": [
    "data['Spread_Households']"
   ]
  },
  {
   "cell_type": "code",
   "execution_count": 11,
   "id": "b6e0bcf4",
   "metadata": {
    "scrolled": true
   },
   "outputs": [],
   "source": [
    "y1 = data[data['Time'] < 1982]['Spread_Households']\n",
    "x1 = data[data['Time'] < 1982]['Tone_Household']\n",
    "y2 = data[data['Time'] >= 1982]['Spread_Households']\n",
    "x2 = data[data['Time'] >= 1982]['Tone_Household']"
   ]
  },
  {
   "cell_type": "code",
   "execution_count": 12,
   "id": "366bb25a",
   "metadata": {},
   "outputs": [
    {
     "name": "stdout",
     "output_type": "stream",
     "text": [
      "[49.55270424]\n"
     ]
    }
   ],
   "source": [
    "f_test = chow_test.f_value(y1, x1, y2, x2)\n",
    "print(f_test)\n"
   ]
  },
  {
   "cell_type": "code",
   "execution_count": 13,
   "id": "0a7bb68c",
   "metadata": {},
   "outputs": [
    {
     "name": "stdout",
     "output_type": "stream",
     "text": [
      "2.4333677757002586e-18\n"
     ]
    }
   ],
   "source": [
    "p_val = chow_test.p_value(y1, x1, y2, x2)\n",
    "print(p_val)\n"
   ]
  },
  {
   "cell_type": "code",
   "execution_count": 14,
   "id": "30730343",
   "metadata": {},
   "outputs": [
    {
     "name": "stdout",
     "output_type": "stream",
     "text": [
      "We can reject the null hypothesis and have to account for a break point.\n"
     ]
    }
   ],
   "source": [
    "if p_val <= 0.05:\n",
    "    print(\"We can reject the null hypothesis and have to account for a break point.\")\n",
    "else: \n",
    "    print(\"We have to accept the null hypothesis, there is no break point.\")"
   ]
  },
  {
   "cell_type": "code",
   "execution_count": 15,
   "id": "d0d65781",
   "metadata": {},
   "outputs": [],
   "source": [
    "y1 = data[data['Time'] < 1982]['Spread_Firms']\n",
    "x1 = data[data['Time'] < 1982]['Tone_Firms']\n",
    "y2 = data[data['Time'] >= 1982]['Spread_Firms']\n",
    "x2 = data[data['Time'] >= 1982]['Tone_Firms']"
   ]
  },
  {
   "cell_type": "code",
   "execution_count": 16,
   "id": "b9465bcd",
   "metadata": {},
   "outputs": [
    {
     "name": "stdout",
     "output_type": "stream",
     "text": [
      "[108.91441262]\n"
     ]
    }
   ],
   "source": [
    "f_test = chow_test.f_value(y1, x1, y2, x2)\n",
    "print(f_test)\n"
   ]
  },
  {
   "cell_type": "code",
   "execution_count": 17,
   "id": "a5aa4439",
   "metadata": {},
   "outputs": [
    {
     "name": "stdout",
     "output_type": "stream",
     "text": [
      "3.9243790293987126e-33\n"
     ]
    }
   ],
   "source": [
    "p_val = chow_test.p_value(y1, x1, y2, x2)\n",
    "print(p_val)"
   ]
  },
  {
   "cell_type": "code",
   "execution_count": 18,
   "id": "0f32e1e2",
   "metadata": {},
   "outputs": [
    {
     "name": "stdout",
     "output_type": "stream",
     "text": [
      "We can reject the null hypothesis and have to account for a break point.\n"
     ]
    }
   ],
   "source": [
    "if p_val <= 0.05:\n",
    "    print(\"We can reject the null hypothesis and have to account for a break point.\")\n",
    "else: \n",
    "    print(\"We have to accept the null hypothesis, there is no break point.\")"
   ]
  },
  {
   "cell_type": "code",
   "execution_count": 19,
   "id": "6128589c",
   "metadata": {},
   "outputs": [],
   "source": [
    "y1 = data[data['Time'] < 1982]['Spread_Banks']\n",
    "x1 = data[data['Time'] < 1982]['Tone_Banks']\n",
    "y2 = data[data['Time'] >= 1982]['Spread_Banks']\n",
    "x2 = data[data['Time'] >= 1982]['Tone_Banks']"
   ]
  },
  {
   "cell_type": "code",
   "execution_count": 20,
   "id": "2d4f3328",
   "metadata": {},
   "outputs": [
    {
     "name": "stdout",
     "output_type": "stream",
     "text": [
      "[39.82129479]\n"
     ]
    }
   ],
   "source": [
    "f_test = chow_test.f_value(y1, x1, y2, x2)\n",
    "print(f_test)\n"
   ]
  },
  {
   "cell_type": "code",
   "execution_count": 21,
   "id": "43ec9b61",
   "metadata": {},
   "outputs": [
    {
     "name": "stdout",
     "output_type": "stream",
     "text": [
      "2.226505768950254e-15\n"
     ]
    }
   ],
   "source": [
    "p_val = chow_test.p_value(y1, x1, y2, x2)\n",
    "print(p_val)"
   ]
  },
  {
   "cell_type": "code",
   "execution_count": 22,
   "id": "68797568",
   "metadata": {},
   "outputs": [
    {
     "name": "stdout",
     "output_type": "stream",
     "text": [
      "We can reject the null hypothesis and have to account for a break point.\n"
     ]
    }
   ],
   "source": [
    "if p_val <= 0.05:\n",
    "    print(\"We can reject the null hypothesis and have to account for a break point.\")\n",
    "else: \n",
    "    print(\"We have to accept the null hypothesis, there is no break point.\")"
   ]
  },
  {
   "cell_type": "code",
   "execution_count": 23,
   "id": "b67a2e95",
   "metadata": {},
   "outputs": [],
   "source": [
    "y1 = data[data['Time'] < 1982]['Spread_Government']\n",
    "x1 = data[data['Time'] < 1982]['Tone_Government']\n",
    "y2 = data[data['Time'] >= 1982]['Spread_Government']\n",
    "x2 = data[data['Time'] >= 1982]['Tone_Government']"
   ]
  },
  {
   "cell_type": "code",
   "execution_count": 24,
   "id": "63a75988",
   "metadata": {},
   "outputs": [
    {
     "name": "stdout",
     "output_type": "stream",
     "text": [
      "[62.47639437]\n"
     ]
    }
   ],
   "source": [
    "f_test = chow_test.f_value(y1, x1, y2, x2)\n",
    "print(f_test)\n"
   ]
  },
  {
   "cell_type": "code",
   "execution_count": 25,
   "id": "5d4b0218",
   "metadata": {},
   "outputs": [
    {
     "name": "stdout",
     "output_type": "stream",
     "text": [
      "5.37274979606018e-22\n"
     ]
    }
   ],
   "source": [
    "p_val = chow_test.p_value(y1, x1, y2, x2)\n",
    "print(p_val)"
   ]
  },
  {
   "cell_type": "code",
   "execution_count": 26,
   "id": "7dc14831",
   "metadata": {},
   "outputs": [
    {
     "name": "stdout",
     "output_type": "stream",
     "text": [
      "We can reject the null hypothesis and have to account for a break point.\n"
     ]
    }
   ],
   "source": [
    "if p_val <= 0.05:\n",
    "    print(\"We can reject the null hypothesis and have to account for a break point.\")\n",
    "else: \n",
    "    print(\"We have to accept the null hypothesis, there is no break point.\")"
   ]
  },
  {
   "cell_type": "code",
   "execution_count": 27,
   "id": "85c9c660",
   "metadata": {},
   "outputs": [],
   "source": [
    "y1 = data[data['Time'] < 2008]['Spread_Households']\n",
    "x1 = data[data['Time'] < 2008]['Tone_Household']\n",
    "y2 = data[data['Time'] >= 2008]['Spread_Households']\n",
    "x2 = data[data['Time'] >= 2008]['Tone_Household']"
   ]
  },
  {
   "cell_type": "code",
   "execution_count": 28,
   "id": "2ac44df4",
   "metadata": {},
   "outputs": [
    {
     "name": "stdout",
     "output_type": "stream",
     "text": [
      "[3.051929]\n"
     ]
    }
   ],
   "source": [
    "f_test = chow_test.f_value(y1, x1, y2, x2)\n",
    "print(f_test)"
   ]
  },
  {
   "cell_type": "code",
   "execution_count": 29,
   "id": "6523615a",
   "metadata": {},
   "outputs": [
    {
     "name": "stdout",
     "output_type": "stream",
     "text": [
      "0.049379879454773776\n"
     ]
    }
   ],
   "source": [
    "p_val = chow_test.p_value(y1, x1, y2, x2)\n",
    "print(p_val)"
   ]
  },
  {
   "cell_type": "code",
   "execution_count": 30,
   "id": "01d0a1c9",
   "metadata": {},
   "outputs": [
    {
     "name": "stdout",
     "output_type": "stream",
     "text": [
      "We can reject the null hypothesis and have to account for a break point.\n"
     ]
    }
   ],
   "source": [
    "if p_val <= 0.05:\n",
    "    print(\"We can reject the null hypothesis and have to account for a break point.\")\n",
    "else: \n",
    "    print(\"We have to accept the null hypothesis, there is no break point.\")"
   ]
  },
  {
   "cell_type": "code",
   "execution_count": 138,
   "id": "af058cad",
   "metadata": {},
   "outputs": [],
   "source": [
    "y1 = data[data['Time'] < 2008]['Spread_Firms']\n",
    "x1 = data[data['Time'] < 2008]['Tone_Firms']\n",
    "y2 = data[data['Time'] >= 2008]['Spread_Firms']\n",
    "x2 = data[data['Time'] >= 2008]['Tone_Firms']"
   ]
  },
  {
   "cell_type": "code",
   "execution_count": 139,
   "id": "5ddfff22",
   "metadata": {},
   "outputs": [
    {
     "name": "stdout",
     "output_type": "stream",
     "text": [
      "[1.41431206]\n"
     ]
    }
   ],
   "source": [
    "f_test = chow_test.f_value(y1, x1, y2, x2)\n",
    "print(f_test)"
   ]
  },
  {
   "cell_type": "code",
   "execution_count": 140,
   "id": "9076ed88",
   "metadata": {},
   "outputs": [
    {
     "name": "stdout",
     "output_type": "stream",
     "text": [
      "0.24540954802989962\n"
     ]
    }
   ],
   "source": [
    "p_val = chow_test.p_value(y1, x1, y2, x2)\n",
    "print(p_val)"
   ]
  },
  {
   "cell_type": "code",
   "execution_count": 141,
   "id": "371b807e",
   "metadata": {},
   "outputs": [
    {
     "name": "stdout",
     "output_type": "stream",
     "text": [
      "We have to accept the null hypothesis, there is no break point.\n"
     ]
    }
   ],
   "source": [
    "if p_val <= 0.05:\n",
    "    print(\"We can reject the null hypothesis and have to account for a break point.\")\n",
    "else: \n",
    "    print(\"We have to accept the null hypothesis, there is no break point.\")"
   ]
  },
  {
   "cell_type": "code",
   "execution_count": 149,
   "id": "227f2095",
   "metadata": {},
   "outputs": [
    {
     "name": "stdout",
     "output_type": "stream",
     "text": [
      "We have to accept the null hypothesis, there is no break point.\n"
     ]
    }
   ],
   "source": [
    "if p_val <= 0.05:\n",
    "    print(\"We can reject the null hypothesis and have to account for a break point.\")\n",
    "else: \n",
    "    print(\"We have to accept the null hypothesis, there is no break point.\")"
   ]
  },
  {
   "cell_type": "code",
   "execution_count": 146,
   "id": "2eb8002c",
   "metadata": {},
   "outputs": [],
   "source": [
    "y1 = data[data['Time'] < 2008]['Spread_Banks']\n",
    "x1 = data[data['Time'] < 2008]['Tone_Banks']\n",
    "y2 = data[data['Time'] >= 2008]['Spread_Banks']\n",
    "x2 = data[data['Time'] >= 2008]['Tone_Banks']"
   ]
  },
  {
   "cell_type": "code",
   "execution_count": 147,
   "id": "c840f286",
   "metadata": {},
   "outputs": [
    {
     "name": "stdout",
     "output_type": "stream",
     "text": [
      "[0.24773284]\n"
     ]
    }
   ],
   "source": [
    "f_test = chow_test.f_value(y1, x1, y2, x2)\n",
    "print(f_test)"
   ]
  },
  {
   "cell_type": "code",
   "execution_count": 148,
   "id": "3b945232",
   "metadata": {},
   "outputs": [
    {
     "name": "stdout",
     "output_type": "stream",
     "text": [
      "0.7807973310338775\n"
     ]
    }
   ],
   "source": [
    "p_val = chow_test.p_value(y1, x1, y2, x2)\n",
    "print(p_val)"
   ]
  },
  {
   "cell_type": "code",
   "execution_count": 142,
   "id": "ddfdbfc4",
   "metadata": {},
   "outputs": [],
   "source": [
    "y1 = data[data['Time'] < 2008]['Spread_Government']\n",
    "x1 = data[data['Time'] < 2008]['Tone_Government']\n",
    "y2 = data[data['Time'] >= 2008]['Spread_Government']\n",
    "x2 = data[data['Time'] >= 2008]['Tone_Government']"
   ]
  },
  {
   "cell_type": "code",
   "execution_count": 143,
   "id": "7282d05f",
   "metadata": {},
   "outputs": [
    {
     "name": "stdout",
     "output_type": "stream",
     "text": [
      "[0.1943072]\n"
     ]
    }
   ],
   "source": [
    "f_test = chow_test.f_value(y1, x1, y2, x2)\n",
    "print(f_test)"
   ]
  },
  {
   "cell_type": "code",
   "execution_count": 144,
   "id": "b24febf4",
   "metadata": {},
   "outputs": [
    {
     "name": "stdout",
     "output_type": "stream",
     "text": [
      "0.8235534932048181\n"
     ]
    }
   ],
   "source": [
    "p_val = chow_test.p_value(y1, x1, y2, x2)\n",
    "print(p_val)"
   ]
  },
  {
   "cell_type": "code",
   "execution_count": 145,
   "id": "b78945b2",
   "metadata": {},
   "outputs": [
    {
     "name": "stdout",
     "output_type": "stream",
     "text": [
      "We have to accept the null hypothesis, there is no break point.\n"
     ]
    }
   ],
   "source": [
    "if p_val <= 0.05:\n",
    "    print(\"We can reject the null hypothesis and have to account for a break point.\")\n",
    "else: \n",
    "    print(\"We have to accept the null hypothesis, there is no break point.\")"
   ]
  }
 ],
 "metadata": {
  "kernelspec": {
   "display_name": "Python 3 (ipykernel)",
   "language": "python",
   "name": "python3"
  },
  "language_info": {
   "codemirror_mode": {
    "name": "ipython",
    "version": 3
   },
   "file_extension": ".py",
   "mimetype": "text/x-python",
   "name": "python",
   "nbconvert_exporter": "python",
   "pygments_lexer": "ipython3",
   "version": "3.9.12"
  }
 },
 "nbformat": 4,
 "nbformat_minor": 5
}
